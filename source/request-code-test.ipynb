{
 "cells": [
  {
   "cell_type": "code",
   "execution_count": 1,
   "metadata": {},
   "outputs": [],
   "source": [
    "import pandas as pd\n",
    "import json"
   ]
  },
  {
   "cell_type": "code",
   "execution_count": 4,
   "metadata": {},
   "outputs": [
    {
     "name": "stdout",
     "output_type": "stream",
     "text": [
      "                                           permalink  list_price  \\\n",
      "0     17443-Fleming-St_Detroit_MI_48212_M48638-13473     12000.0   \n",
      "1       4229-Leslie-St_Detroit_MI_48238_M49567-54734    247000.0   \n",
      "2     1743-Van-Dyke-St_Detroit_MI_48214_M31724-96747    375000.0   \n",
      "3  17164-Five-Points-St_Redford_MI_48240_M42470-3...    134900.0   \n",
      "4        8311-Parkland_Redford_MI_48239_M46548-79901         NaN   \n",
      "5  224-E-Philadelphia-St_Detroit_MI_48202_M32211-...         NaN   \n",
      "6     19600-Hamburg-St_Detroit_MI_48205_M45779-66178         NaN   \n",
      "7   16596-Rosemont-Ave_Detroit_MI_48219_M38094-19274         NaN   \n",
      "8  18065-Hamilton-Rd_Highland-Park_MI_48203_M4116...         NaN   \n",
      "9      15390-Auburn-St_Detroit_MI_48223_M39955-99922         NaN   \n",
      "\n",
      "              list_date  description.year_built location.address.postal_code  \\\n",
      "0  2021-07-24T00:59:24Z                  1927.0                        48212   \n",
      "1  2021-11-18T22:13:22Z                  1923.0                        48238   \n",
      "2  2021-09-04T18:52:20Z                  1890.0                        48214   \n",
      "3  2021-10-25T18:38:10Z                  1950.0                        48240   \n",
      "4                  None                     NaN                        48239   \n",
      "5                  None                  1905.0                        48202   \n",
      "6                  None                  1942.0                        48205   \n",
      "7                  None                  1928.0                        48219   \n",
      "8                  None                  1925.0                        48203   \n",
      "9                  None                  1938.0                        48223   \n",
      "\n",
      "  location.county.name location.address.city location.address.state  \\\n",
      "0                Wayne               Detroit               Michigan   \n",
      "1                Wayne               Detroit               Michigan   \n",
      "2                Wayne               Detroit               Michigan   \n",
      "3                Wayne               Detroit               Michigan   \n",
      "4                Wayne               Redford               Michigan   \n",
      "5                Wayne               Detroit               Michigan   \n",
      "6                Wayne               Detroit               Michigan   \n",
      "7                Wayne               Detroit               Michigan   \n",
      "8                Wayne         Highland Park               Michigan   \n",
      "9                Wayne               Detroit               Michigan   \n",
      "\n",
      "  description.sold_date  description.sqft  description.lot_sqft  \n",
      "0            2021-12-27            1513.0                  3485  \n",
      "1            2021-12-20            2289.0                  5200  \n",
      "2            2021-12-20            2544.0                  4792  \n",
      "3            2021-12-16            1040.0                  6534  \n",
      "4            2021-12-06               NaN                  5227  \n",
      "5            2021-12-06            6384.0                  6098  \n",
      "6            2021-12-06             770.0                  4356  \n",
      "7            2021-12-03            2800.0                  6970  \n",
      "8            2021-12-03               NaN                 24394  \n",
      "9            2021-12-03            1200.0                  4792  \n"
     ]
    }
   ],
   "source": [
    "# Open source JSON file\n",
    "inputfile = open('extract-data.json')\n",
    "\n",
    "# Create a dictionary from JSON file with the home search results only\n",
    "filtered=json.load(inputfile)['data']\n",
    "\n",
    "# Flatten nested JSON\n",
    "df = pd.json_normalize(filtered, record_path=['results'])\n",
    "\n",
    "# Create a new dataframe from only the interesting columns\n",
    "df_filtered = df[['permalink','list_price','list_date','description.year_built','location.address.postal_code','location.county.name','location.address.city','location.address.state', \"description.sold_date\", \"description.sqft\", \"description.lot_sqft\"]]\n",
    "print(df_filtered)"
   ]
  },
  {
   "cell_type": "code",
   "execution_count": null,
   "metadata": {},
   "outputs": [],
   "source": []
  },
  {
   "cell_type": "code",
   "execution_count": null,
   "metadata": {},
   "outputs": [],
   "source": []
  },
  {
   "cell_type": "code",
   "execution_count": null,
   "metadata": {},
   "outputs": [],
   "source": []
  },
  {
   "cell_type": "code",
   "execution_count": null,
   "metadata": {},
   "outputs": [],
   "source": []
  },
  {
   "cell_type": "code",
   "execution_count": null,
   "metadata": {},
   "outputs": [],
   "source": []
  },
  {
   "cell_type": "code",
   "execution_count": null,
   "metadata": {},
   "outputs": [],
   "source": []
  }
 ],
 "metadata": {
  "kernelspec": {
   "display_name": "dec3",
   "language": "python",
   "name": "python3"
  },
  "language_info": {
   "codemirror_mode": {
    "name": "ipython",
    "version": 3
   },
   "file_extension": ".py",
   "mimetype": "text/x-python",
   "name": "python",
   "nbconvert_exporter": "python",
   "pygments_lexer": "ipython3",
   "version": "3.9.17"
  },
  "orig_nbformat": 4
 },
 "nbformat": 4,
 "nbformat_minor": 2
}
